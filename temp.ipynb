{
 "cells": [
  {
   "cell_type": "code",
   "execution_count": 1,
   "metadata": {},
   "outputs": [
    {
     "name": "stdout",
     "output_type": "stream",
     "text": [
      "Indian government agency spent millions to promote BJP election slogans\n"
     ]
    }
   ],
   "source": [
    "import api\n",
    "from nltk.sentiment.vader import SentimentIntensityAnalyzer\n",
    "import pandas as pd"
   ]
  },
  {
   "cell_type": "code",
   "execution_count": 2,
   "metadata": {},
   "outputs": [],
   "source": [
    "article_keys = api.data['articles'][0].keys()"
   ]
  },
  {
   "cell_type": "code",
   "execution_count": 3,
   "metadata": {},
   "outputs": [
    {
     "name": "stdout",
     "output_type": "stream",
     "text": [
      "                                              source            author  \\\n",
      "0  {'id': 'al-jazeera-english', 'name': 'Al Jazee...        Al Jazeera   \n",
      "1  {'id': 'al-jazeera-english', 'name': 'Al Jazee...    Yashraj Sharma   \n",
      "2  {'id': 'al-jazeera-english', 'name': 'Al Jazee...  Al Jazeera Staff   \n",
      "3  {'id': 'al-jazeera-english', 'name': 'Al Jazee...        Al Jazeera   \n",
      "4  {'id': 'al-jazeera-english', 'name': 'Al Jazee...  Ishadrita Lahiri   \n",
      "\n",
      "                                               title  \\\n",
      "0  Indian government agency spent millions to pro...   \n",
      "1  Modi magic: Why Indian exit polls predict reco...   \n",
      "2  India election 2024: Why isn’t Modi’s BJP fiel...   \n",
      "3  India’s exit polls predict a big majority for ...   \n",
      "4  Modi’s BJP wants the votes of India’s ‘Pasmand...   \n",
      "\n",
      "                                         description  \\\n",
      "0  The Central Bureau of Communication is meant t...   \n",
      "1  Exit polls suggest the prime minister's party ...   \n",
      "2  Absence of the prime minister's party from ele...   \n",
      "3  A summary of exit polls project the NDA could ...   \n",
      "4  The party has tried to make inroads among the ...   \n",
      "\n",
      "                                                 url  \\\n",
      "0  https://www.aljazeera.com/news/2024/5/21/india...   \n",
      "1  https://www.aljazeera.com/news/2024/6/2/modi-m...   \n",
      "2  https://www.aljazeera.com/news/2024/5/13/india...   \n",
      "3  https://www.aljazeera.com/news/2024/6/1/indias...   \n",
      "4  https://www.aljazeera.com/news/2024/5/22/modis...   \n",
      "\n",
      "                                          urlToImage           publishedAt  \\\n",
      "0  https://www.aljazeera.com/wp-content/uploads/2...  2024-05-21T05:22:59Z   \n",
      "1  https://www.aljazeera.com/wp-content/uploads/2...  2024-06-02T03:22:01Z   \n",
      "2  https://www.aljazeera.com/wp-content/uploads/2...  2024-05-13T04:56:59Z   \n",
      "3  https://www.aljazeera.com/wp-content/uploads/2...  2024-06-01T16:28:17Z   \n",
      "4  https://www.aljazeera.com/wp-content/uploads/2...  2024-05-22T05:45:43Z   \n",
      "\n",
      "                                             content  \n",
      "0  Mumbai, India In November, as Indias election ...  \n",
      "1  New Delhi, India Indias Prime Minister Narendr...  \n",
      "2  Srinagar, Indian-administered Kashmir More tha...  \n",
      "3  Indian Prime Minister Narendra Modis Bharatiya...  \n",
      "4  Patna and Naihati, India Earlier this month, I...  \n"
     ]
    }
   ],
   "source": [
    "# Creating DataFrame with all keys as columns\n",
    "df = pd.DataFrame(api.data['articles'], columns=article_keys)\n",
    "\n",
    "print(df.head())"
   ]
  },
  {
   "cell_type": "code",
   "execution_count": null,
   "metadata": {},
   "outputs": [],
   "source": []
  }
 ],
 "metadata": {
  "kernelspec": {
   "display_name": ".venv",
   "language": "python",
   "name": "python3"
  },
  "language_info": {
   "codemirror_mode": {
    "name": "ipython",
    "version": 3
   },
   "file_extension": ".py",
   "mimetype": "text/x-python",
   "name": "python",
   "nbconvert_exporter": "python",
   "pygments_lexer": "ipython3",
   "version": "3.12.1"
  }
 },
 "nbformat": 4,
 "nbformat_minor": 2
}
