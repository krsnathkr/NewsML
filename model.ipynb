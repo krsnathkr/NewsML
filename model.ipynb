{
 "cells": [
  {
   "cell_type": "code",
   "execution_count": 4,
   "metadata": {},
   "outputs": [],
   "source": [
    "import sentiment\n",
    "import pandas as pd\n",
    "import numpy as np\n",
    "from sklearn.feature_extraction.text import TfidfVectorizer\n",
    "from sklearn.metrics.pairwise import linear_kernel"
   ]
  },
  {
   "cell_type": "code",
   "execution_count": 15,
   "metadata": {},
   "outputs": [
    {
     "name": "stdout",
     "output_type": "stream",
     "text": [
      "                                             author  \\\n",
      "0                                        Al Jazeera   \n",
      "1                                    Yashraj Sharma   \n",
      "2                                  Al Jazeera Staff   \n",
      "3                                        Al Jazeera   \n",
      "4                                  Ishadrita Lahiri   \n",
      "5                                              None   \n",
      "6                                        Al Jazeera   \n",
      "7                                            ET Now   \n",
      "8                                Sudha Ramachandran   \n",
      "9        Fazleena Aziz, TAN SIN CHOW, R. ARAVINTHAN   \n",
      "10                                             None   \n",
      "11                                             None   \n",
      "12                 Auqib Javeed - Srinagar, Kashmir   \n",
      "13  Krishnendu Bandyopadhyay and Sanjib Chakraborty   \n",
      "16                               Sanjib Chakraborty   \n",
      "17                                              TNN   \n",
      "18                                              TNN   \n",
      "19                                      Abhijit Sen   \n",
      "20                                      Simone Lobo   \n",
      "21                                        Nitin Pai   \n",
      "\n",
      "                                                title  \\\n",
      "0   Indian government agency spent millions to pro...   \n",
      "1   Modi magic: Why Indian exit polls predict reco...   \n",
      "2   India election 2024: Why isn’t Modi’s BJP fiel...   \n",
      "3   India’s exit polls predict a big majority for ...   \n",
      "4   Modi’s BJP wants the votes of India’s ‘Pasmand...   \n",
      "5   Why isn’t the BJP fielding a candidate in Indi...   \n",
      "6   The battle for Delhi: Will Modi’s BJP pass its...   \n",
      "7   BJP focus on threats rather than opportunities...   \n",
      "8      Why Is the RSS Distancing Itself From the BJP?   \n",
      "9          Dalit man bashed for not voting ruling BJP   \n",
      "10                                          [Removed]   \n",
      "11                                          [Removed]   \n",
      "12  Kashmir: Why Modi's BJP is not fighting electi...   \n",
      "13  TMC to BJP to TMC to BJP: Turncoat tag threate...   \n",
      "16  Sandeshkhali case: Judicial custody for BJP wo...   \n",
      "17  Congress, opposition echoing 'voice of Pakista...   \n",
      "18                  BJP neta booked for son using EVM   \n",
      "19         Allegations unjust, Jayant Sinha tells BJP   \n",
      "20  ECI orders take down of BJP Karnataka video fr...   \n",
      "21  There’s a reason why the Indian stock market s...   \n",
      "\n",
      "                                          description  \\\n",
      "0   The Central Bureau of Communication is meant t...   \n",
      "1   Exit polls suggest the prime minister's party ...   \n",
      "2   Absence of the prime minister's party from ele...   \n",
      "3   A summary of exit polls project the NDA could ...   \n",
      "4   The party has tried to make inroads among the ...   \n",
      "5   These are the first parliamentary elections si...   \n",
      "6   The BJP has won Delhi in all but two national ...   \n",
      "7   Madhavan Narayanan, a Senior Journalist, discu...   \n",
      "8   BJP and RSS leaders are going to great lengths...   \n",
      "9   A MAN from the Dalit community in India was al...   \n",
      "10                                          [Removed]   \n",
      "11                                          [Removed]   \n",
      "12  This is the first general election since India...   \n",
      "13  BJP's Arjun Singh faces challenges from TMC's ...   \n",
      "16  Piyali Das of BJP Mahila Morcha was sent to ju...   \n",
      "17  At a press conference, BJP spokesperson and Ra...   \n",
      "18  India News: Police booked a BJP functionary on...   \n",
      "19  India News: Jayant Sinha, outgoing BJP MP from...   \n",
      "20  The video, shared on May 4 during Lok Sabha po...   \n",
      "21  BJP rule has broadly been favourable for liste...   \n",
      "\n",
      "                                              content  compound  \n",
      "0   Mumbai, India In November, as Indias election ...    0.6705  \n",
      "1   New Delhi, India Indias Prime Minister Narendr...    0.2500  \n",
      "2   Srinagar, Indian-administered Kashmir More tha...    0.0000  \n",
      "3   Indian Prime Minister Narendra Modis Bharatiya...    0.8481  \n",
      "4   Patna and Naihati, India Earlier this month, I...   -0.7269  \n",
      "5   These are the first parliamentary elections si...    0.0000  \n",
      "6   New Delhi, India On a sweltering afternoon, hu...    0.0000  \n",
      "7   Speaking to ET Now, Madhavan Narayanan, Senior...    0.3818  \n",
      "8   Indias ruling Bharatiya Janata Party (BJP) and...    0.4019  \n",
      "9   A MAN from the Dalit community in India was al...   -0.0258  \n",
      "10                                          [Removed]    0.0000  \n",
      "11                                          [Removed]    0.0000  \n",
      "12  More than four years after the governing Bhara...    0.7964  \n",
      "13   8 fastest growing succulents for the home garden    0.1779  \n",
      "16  Oldest animal species alive on earth and where...    0.3818  \n",
      "17  10 ways to raise your child's confidence and s...    0.5106  \n",
      "18           10 benefits of eating 1 Khajoor everyday    0.3818  \n",
      "19  10 cutest and most colourful animals found in ...    0.5859  \n",
      "20  The Election Commission of India (ECI) on May ...    0.3400  \n",
      "21  Any stock market discounts future possibilitie...    0.0000  \n"
     ]
    }
   ],
   "source": [
    "print(sentiment.df.head(20))"
   ]
  },
  {
   "cell_type": "code",
   "execution_count": 6,
   "metadata": {},
   "outputs": [],
   "source": [
    "df = sentiment.df"
   ]
  },
  {
   "cell_type": "code",
   "execution_count": 7,
   "metadata": {},
   "outputs": [],
   "source": [
    "tfdif = TfidfVectorizer(stop_words='english')\n",
    "df['content'] = df['content'].fillna('')\n",
    "tfidf_matrix = tfdif.fit_transform(df['content'])"
   ]
  },
  {
   "cell_type": "code",
   "execution_count": 8,
   "metadata": {},
   "outputs": [],
   "source": [
    "cosine_sim = linear_kernel(tfidf_matrix, tfidf_matrix)"
   ]
  },
  {
   "cell_type": "code",
   "execution_count": 9,
   "metadata": {},
   "outputs": [
    {
     "name": "stdout",
     "output_type": "stream",
     "text": [
      "title\n",
      "Indian government agency spent millions to promote BJP election slogans      0\n",
      "Modi magic: Why Indian exit polls predict record BJP win                     1\n",
      "India election 2024: Why isn’t Modi’s BJP fielding candidates in Kashmir?    2\n",
      "India’s exit polls predict a big majority for Modi’s BJP-led alliance        3\n",
      "Modi’s BJP wants the votes of India’s ‘Pasmanda’ Muslims. Will they bite?    4\n",
      "dtype: int64\n"
     ]
    }
   ],
   "source": [
    "indices = pd.Series(df.index, index=df['title']).drop_duplicates()\n",
    "print(indices.head())"
   ]
  },
  {
   "cell_type": "code",
   "execution_count": 10,
   "metadata": {},
   "outputs": [],
   "source": [
    "def get_recommendations(title, cosine_sim=cosine_sim):\n",
    "    idx = indices[title]\n",
    "    sim_scores = list(enumerate(cosine_sim[idx]))\n",
    "    sim_scores = sorted(sim_scores, key=lambda x: x[1], reverse=True)\n",
    "    sim_scores = sim_scores[1:11]\n",
    "    news_indices = [i[0] for i in sim_scores]\n",
    "    print(sim_scores)\n",
    "    return df['title'].iloc[news_indices]"
   ]
  },
  {
   "cell_type": "code",
   "execution_count": 11,
   "metadata": {},
   "outputs": [
    {
     "name": "stdout",
     "output_type": "stream",
     "text": [
      "[(12, 0.2804894794357595), (0, 0.2664930040571202), (40, 0.23187583549453455), (77, 0.19965571083896727), (87, 0.18776819459807056), (1, 0.1792622069587294), (49, 0.1416315229993893), (9, 0.14129113771006876), (50, 0.12969101023310117), (8, 0.11660082869322863)]\n"
     ]
    },
    {
     "data": {
      "text/plain": [
       "12    Kashmir: Why Modi's BJP is not fighting electi...\n",
       "0     Indian government agency spent millions to pro...\n",
       "43    India election: how Narendra Modi’s BJP uses a...\n",
       "82    BJP eyes hat-trick in Gujarat; Cong-AAP allian...\n",
       "92    Exit polls predict third term for Modi: BJP-le...\n",
       "1     Modi magic: Why Indian exit polls predict reco...\n",
       "54    Modi exhorts Pawar, Thackeray to join BJP alli...\n",
       "9            Dalit man bashed for not voting ruling BJP\n",
       "55    Kejriwal's acknowledgement that BJP retaining ...\n",
       "8        Why Is the RSS Distancing Itself From the BJP?\n",
       "Name: title, dtype: object"
      ]
     },
     "execution_count": 11,
     "metadata": {},
     "output_type": "execute_result"
    }
   ],
   "source": [
    "get_recommendations('India’s exit polls predict a big majority for Modi’s BJP-led alliance')\n"
   ]
  },
  {
   "cell_type": "code",
   "execution_count": null,
   "metadata": {},
   "outputs": [],
   "source": []
  },
  {
   "cell_type": "code",
   "execution_count": null,
   "metadata": {},
   "outputs": [],
   "source": []
  },
  {
   "cell_type": "code",
   "execution_count": null,
   "metadata": {},
   "outputs": [],
   "source": []
  },
  {
   "cell_type": "code",
   "execution_count": null,
   "metadata": {},
   "outputs": [],
   "source": []
  }
 ],
 "metadata": {
  "kernelspec": {
   "display_name": ".venv",
   "language": "python",
   "name": "python3"
  },
  "language_info": {
   "codemirror_mode": {
    "name": "ipython",
    "version": 3
   },
   "file_extension": ".py",
   "mimetype": "text/x-python",
   "name": "python",
   "nbconvert_exporter": "python",
   "pygments_lexer": "ipython3",
   "version": "3.12.1"
  }
 },
 "nbformat": 4,
 "nbformat_minor": 2
}
