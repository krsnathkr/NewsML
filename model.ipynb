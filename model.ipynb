{
 "cells": [
  {
   "cell_type": "code",
   "execution_count": 66,
   "metadata": {},
   "outputs": [],
   "source": [
    "import sentiment\n",
    "import pandas as pd\n",
    "import nltk\n",
    "import pickle\n",
    "from nltk.stem import PorterStemmer\n",
    "from sklearn.feature_extraction.text import TfidfVectorizer\n",
    "from sklearn.metrics.pairwise import linear_kernel\n",
    "from sklearn.feature_extraction.text import CountVectorizer\n",
    "from sklearn.metrics.pairwise import cosine_similarity"
   ]
  },
  {
   "cell_type": "code",
   "execution_count": 68,
   "metadata": {},
   "outputs": [
    {
     "name": "stdout",
     "output_type": "stream",
     "text": [
      "                                        author  \\\n",
      "0                                   Al Jazeera   \n",
      "1                                   Al Jazeera   \n",
      "2                               Yashraj Sharma   \n",
      "3                                         None   \n",
      "4                             Al Jazeera Staff   \n",
      "5                                   Al Jazeera   \n",
      "6                               Yashraj Sharma   \n",
      "7                             Ishadrita Lahiri   \n",
      "8                                   Al Jazeera   \n",
      "9                                         None   \n",
      "10                                      ET Now   \n",
      "11                          Sudha Ramachandran   \n",
      "12                                          RT   \n",
      "13  Fazleena Aziz, TAN SIN CHOW, R. ARAVINTHAN   \n",
      "14                                        None   \n",
      "15                                        None   \n",
      "16                                        None   \n",
      "17            Auqib Javeed - Srinagar, Kashmir   \n",
      "18             Saurabh Sharma and Shivam Patel   \n",
      "19                                        None   \n",
      "\n",
      "                                                title  \\\n",
      "0   Indian government agency spent millions to pro...   \n",
      "1   Photos: BJP and opposition supporters celebrat...   \n",
      "2   Modi magic: Why Indian exit polls predict reco...   \n",
      "3   India’s Modi wins election, but BJP suffers se...   \n",
      "4   India election 2024: Why isn’t Modi’s BJP fiel...   \n",
      "5   India’s exit polls predict a big majority for ...   \n",
      "6   Modi’s BJP to lose majority in India election ...   \n",
      "7   Modi’s BJP wants the votes of India’s ‘Pasmand...   \n",
      "8   The battle for Delhi: Will Modi’s BJP pass its...   \n",
      "9   Why isn’t the BJP fielding a candidate in Indi...   \n",
      "10  BJP focus on threats rather than opportunities...   \n",
      "11     Why Is the RSS Distancing Itself From the BJP?   \n",
      "12  Modi claims victory as BJP-led alliance secure...   \n",
      "13         Dalit man bashed for not voting ruling BJP   \n",
      "14                                          [Removed]   \n",
      "15                                          [Removed]   \n",
      "16                                          [Removed]   \n",
      "17  Kashmir: Why Modi's BJP is not fighting electi...   \n",
      "18  India's BJP concedes defeat in Ayodhya, where ...   \n",
      "19                                          [Removed]   \n",
      "\n",
      "                                          description  \\\n",
      "0   The Central Bureau of Communication is meant t...   \n",
      "1   Indian Prime Minister Narendra Modi appears se...   \n",
      "2   Exit polls suggest the prime minister's party ...   \n",
      "3   Indian Prime Minister Narendra Modi has won a ...   \n",
      "4   Absence of the prime minister's party from ele...   \n",
      "5   A summary of exit polls project the NDA could ...   \n",
      "6   Defying exit polls, opposition parties stun th...   \n",
      "7   The party has tried to make inroads among the ...   \n",
      "8   The BJP has won Delhi in all but two national ...   \n",
      "9   These are the first parliamentary elections si...   \n",
      "10  Madhavan Narayanan, a Senior Journalist, discu...   \n",
      "11  BJP and RSS leaders are going to great lengths...   \n",
      "12  India’s leader has vowed a continuity of polic...   \n",
      "13  A MAN from the Dalit community in India was al...   \n",
      "14                                          [Removed]   \n",
      "15                                          [Removed]   \n",
      "16                                          [Removed]   \n",
      "17  This is the first general election since India...   \n",
      "18  India's ruling Bharatiya Janata Party conceded...   \n",
      "19                                          [Removed]   \n",
      "\n",
      "                                              content  compound  \\\n",
      "0   Mumbai, India In November, as Indias election ...    0.6705   \n",
      "1   Indias Hindu nationalist Prime Minister Narend...    0.1027   \n",
      "2   New Delhi, India Indias Prime Minister Narendr...    0.2500   \n",
      "3   NewsFeed\\r\\nIndian Prime Minister Narendra Mod...    0.8990   \n",
      "4   Srinagar, Indian-administered Kashmir More tha...    0.0000   \n",
      "5   Indian Prime Minister Narendra Modis Bharatiya...    0.8481   \n",
      "6   New Delhi, India Indian Prime Minister Narendr...   -0.7003   \n",
      "7   Patna and Naihati, India Earlier this month, I...   -0.7269   \n",
      "8   New Delhi, India On a sweltering afternoon, hu...    0.0000   \n",
      "9   These are the first parliamentary elections si...    0.0000   \n",
      "10  Speaking to ET Now, Madhavan Narayanan, Senior...    0.3818   \n",
      "11  Indias ruling Bharatiya Janata Party (BJP) and...    0.4019   \n",
      "12  Indian Prime Minister Narendra Modi has declar...    0.0000   \n",
      "13  A MAN from the Dalit community in India was al...   -0.0258   \n",
      "14                                          [Removed]    0.0000   \n",
      "15                                          [Removed]    0.0000   \n",
      "16                                          [Removed]    0.0000   \n",
      "17  More than four years after the governing Bhara...    0.7964   \n",
      "18  By Saurabh Sharma and Shivam Patel\\r\\nNEW DELH...    0.4019   \n",
      "19                                          [Removed]    0.0000   \n",
      "\n",
      "                                                 tags  \n",
      "0   mumbai, india in november, as india elect camp...  \n",
      "1   india hindu nationalist prime minist narendra ...  \n",
      "2   new delhi, india india prime minist narendra m...  \n",
      "3   newsfe indian prime minist narendra modi ha wo...  \n",
      "4   srinagar, indian-administ kashmir more than a ...  \n",
      "5   indian prime minist narendra modi bharatiya ja...  \n",
      "6   new delhi, india indian prime minist narendra ...  \n",
      "7   patna and naihati, india earlier thi month, in...  \n",
      "8   new delhi, india on a swelter afternoon, hundr...  \n",
      "9   these are the first parliamentari elect sinc t...  \n",
      "10  speak to et now, madhavan narayanan, senior jo...  \n",
      "11  india rule bharatiya janata parti (bjp) and it...  \n",
      "12  indian prime minist narendra modi ha declar vi...  \n",
      "13  a man from the dalit commun in india wa allege...  \n",
      "14                                          [removed]  \n",
      "15                                          [removed]  \n",
      "16                                          [removed]  \n",
      "17  more than four year after the govern bharatiya...  \n",
      "18  by saurabh sharma and shivam patel new delhi (...  \n",
      "19                                          [removed]  \n"
     ]
    }
   ],
   "source": [
    "print(sentiment.df.head(20))"
   ]
  },
  {
   "cell_type": "code",
   "execution_count": 69,
   "metadata": {},
   "outputs": [],
   "source": [
    "df = sentiment.df"
   ]
  },
  {
   "cell_type": "code",
   "execution_count": 70,
   "metadata": {},
   "outputs": [],
   "source": [
    "tfdif = TfidfVectorizer(stop_words='english')\n",
    "df['content'] = df['content'].fillna('')\n",
    "tfidf_matrix = tfdif.fit_transform(df['content'])"
   ]
  },
  {
   "cell_type": "code",
   "execution_count": 71,
   "metadata": {},
   "outputs": [],
   "source": [
    "cosine_sim = linear_kernel(tfidf_matrix, tfidf_matrix)"
   ]
  },
  {
   "cell_type": "code",
   "execution_count": 72,
   "metadata": {},
   "outputs": [
    {
     "name": "stdout",
     "output_type": "stream",
     "text": [
      "title\n",
      "Indian government agency spent millions to promote BJP election slogans      0\n",
      "Photos: BJP and opposition supporters celebrate India election results       1\n",
      "Modi magic: Why Indian exit polls predict record BJP win                     2\n",
      "India’s Modi wins election, but BJP suffers setback                          3\n",
      "India election 2024: Why isn’t Modi’s BJP fielding candidates in Kashmir?    4\n",
      "dtype: int64\n"
     ]
    }
   ],
   "source": [
    "indices = pd.Series(df.index, index=df['title']).drop_duplicates()\n",
    "print(indices.head())"
   ]
  },
  {
   "cell_type": "code",
   "execution_count": 73,
   "metadata": {},
   "outputs": [],
   "source": [
    "def get_recommendations(title, cosine_sim=cosine_sim):\n",
    "    idx = indices[title]\n",
    "    sim_scores = list(enumerate(cosine_sim[idx]))\n",
    "    sim_scores = sorted(sim_scores, key=lambda x: x[1], reverse=True)\n",
    "    sim_scores = sim_scores[1:11]\n",
    "    news_indices = [i[0] for i in sim_scores]\n",
    "    print(sim_scores)\n",
    "    return df['title'].iloc[news_indices]"
   ]
  },
  {
   "cell_type": "code",
   "execution_count": 74,
   "metadata": {},
   "outputs": [
    {
     "name": "stdout",
     "output_type": "stream",
     "text": [
      "[(5, 0.27926115750228436), (51, 0.24518877032478648), (6, 0.22200051110166974), (1, 0.1896929081189981), (2, 0.1768741401063847), (53, 0.16783842360033438), (21, 0.15839324656041506), (12, 0.15038642126184995), (17, 0.1463729627590667), (0, 0.13779264535527272)]\n"
     ]
    },
    {
     "data": {
      "text/plain": [
       "5     India’s exit polls predict a big majority for ...\n",
       "55    India election: how Narendra Modi’s BJP uses a...\n",
       "6     Modi’s BJP to lose majority in India election ...\n",
       "1     Photos: BJP and opposition supporters celebrat...\n",
       "2     Modi magic: Why Indian exit polls predict reco...\n",
       "59      NDA gets a third term but BJP short of majority\n",
       "21    Indian Opposition Celebrates as Modi's BJP Fac...\n",
       "12    Modi claims victory as BJP-led alliance secure...\n",
       "17    Kashmir: Why Modi's BJP is not fighting electi...\n",
       "0     Indian government agency spent millions to pro...\n",
       "Name: title, dtype: object"
      ]
     },
     "execution_count": 74,
     "metadata": {},
     "output_type": "execute_result"
    }
   ],
   "source": [
    "get_recommendations('India’s Modi wins election, but BJP suffers setback')\n"
   ]
  },
  {
   "cell_type": "code",
   "execution_count": 52,
   "metadata": {},
   "outputs": [],
   "source": [
    "df['tags'] = df['content'].copy()"
   ]
  },
  {
   "cell_type": "code",
   "execution_count": 53,
   "metadata": {},
   "outputs": [],
   "source": [
    "ps = PorterStemmer()"
   ]
  },
  {
   "cell_type": "code",
   "execution_count": 54,
   "metadata": {},
   "outputs": [],
   "source": [
    "def stems(text):\n",
    "    l = []\n",
    "    for i in text.split():\n",
    "        l.append(ps.stem(i))\n",
    "\n",
    "    return ' '.join(l)"
   ]
  },
  {
   "cell_type": "code",
   "execution_count": 55,
   "metadata": {},
   "outputs": [],
   "source": [
    "df['tags'] = df['tags'].apply(stems)"
   ]
  },
  {
   "cell_type": "code",
   "execution_count": 56,
   "metadata": {},
   "outputs": [],
   "source": [
    "cv = CountVectorizer(max_features=5000, stop_words='english')"
   ]
  },
  {
   "cell_type": "code",
   "execution_count": 57,
   "metadata": {},
   "outputs": [],
   "source": [
    "vector = cv.fit_transform(df['tags']).toarray()"
   ]
  },
  {
   "cell_type": "code",
   "execution_count": 58,
   "metadata": {},
   "outputs": [],
   "source": [
    "similartiy = cosine_similarity(vector)"
   ]
  },
  {
   "cell_type": "code",
   "execution_count": 59,
   "metadata": {},
   "outputs": [
    {
     "data": {
      "text/plain": [
       "(94, 94)"
      ]
     },
     "execution_count": 59,
     "metadata": {},
     "output_type": "execute_result"
    }
   ],
   "source": [
    "similartiy.shape"
   ]
  },
  {
   "cell_type": "code",
   "execution_count": 60,
   "metadata": {},
   "outputs": [
    {
     "data": {
      "text/plain": [
       "4"
      ]
     },
     "execution_count": 60,
     "metadata": {},
     "output_type": "execute_result"
    }
   ],
   "source": [
    "df[df['title'] == 'India election 2024: Why isn’t Modi’s BJP fielding candidates in Kashmir?'].index[0]"
   ]
  },
  {
   "cell_type": "code",
   "execution_count": 61,
   "metadata": {},
   "outputs": [],
   "source": [
    "def recommend(news):\n",
    "    index = df[df['title'] == news].index[0]\n",
    "    distances = sorted(list(enumerate(similartiy[index])), reverse=True, key=lambda x: x[1])\n",
    "    for i in distances[1:6]:\n",
    "        print(df.iloc[i[0]].title)"
   ]
  },
  {
   "cell_type": "code",
   "execution_count": 62,
   "metadata": {},
   "outputs": [
    {
     "name": "stdout",
     "output_type": "stream",
     "text": [
      "India’s exit polls predict a big majority for Modi’s BJP-led alliance\n",
      "Modi’s BJP to lose majority in India election shock, needs allies for gov’t\n",
      "Indian Opposition Celebrates as Modi's BJP Faces Shock Election Setback\n",
      "India election: how Narendra Modi’s BJP uses and abuses religious minorities for political purposes\n",
      "Photos: BJP and opposition supporters celebrate India election results\n"
     ]
    }
   ],
   "source": [
    "recommend('India’s Modi wins election, but BJP suffers setback')"
   ]
  },
  {
   "cell_type": "code",
   "execution_count": 63,
   "metadata": {},
   "outputs": [],
   "source": [
    "pickle.dump(df, open('news.pkl', 'wb'))\n",
    "pickle.dump(similartiy, open('similarity.pkl', 'wb'))"
   ]
  },
  {
   "cell_type": "code",
   "execution_count": null,
   "metadata": {},
   "outputs": [],
   "source": []
  }
 ],
 "metadata": {
  "kernelspec": {
   "display_name": ".venv",
   "language": "python",
   "name": "python3"
  },
  "language_info": {
   "codemirror_mode": {
    "name": "ipython",
    "version": 3
   },
   "file_extension": ".py",
   "mimetype": "text/x-python",
   "name": "python",
   "nbconvert_exporter": "python",
   "pygments_lexer": "ipython3",
   "version": "3.12.1"
  }
 },
 "nbformat": 4,
 "nbformat_minor": 2
}
